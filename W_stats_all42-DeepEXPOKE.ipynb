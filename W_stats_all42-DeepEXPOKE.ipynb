{
 "cells": [
  {
   "cell_type": "code",
   "execution_count": null,
   "id": "2d37d72b",
   "metadata": {},
   "outputs": [],
   "source": [
    "import pandas as pd\n",
    "import numpy as np\n",
    "import os\n",
    "import tensorflow as tf\n",
    "#import networkx as nx"
   ]
  },
  {
   "cell_type": "code",
   "execution_count": null,
   "id": "d903d739",
   "metadata": {},
   "outputs": [],
   "source": [
    "dataFolderPath = \"/Users/adsriram98/Documents/PARK_LAB/PRS_calc/data\"; #change this directory to wherever you are saving your data files to."
   ]
  },
  {
   "cell_type": "code",
   "execution_count": null,
   "id": "96c933b7",
   "metadata": {},
   "outputs": [],
   "source": [
    "'''\n",
    "#Generate knockoff data using one of two methods: ISEE Omega and Cholesky_LU.\n",
    "The code for generating ISEE Omega knockoff is implemented using R. Please make sure your computer has R installed.\n",
    "'''\n",
    "dataFolderPath = \"/Users/adsriram98/Documents/PARK_LAB/PRS_calc/data\";\n",
    "\n",
    "from DL.knockoff.KnockoffGenerator import KnockoffGenerator;\n",
    "generator = KnockoffGenerator();\n",
    "\n",
    "DataFileName = \"42p_82894samples_02-23-24_incidence_X.txt\"\n",
    "\n",
    "knockoffFilePath = generator.CholLuKnockoff(dataFolderPath, DataFileName,sep=\"\\t\");\n",
    "\n",
    "print(\"The newly generated knockoff file is named as:\");\n",
    "print(knockoffFilePath);"
   ]
  },
  {
   "cell_type": "code",
   "execution_count": null,
   "id": "99e00ec0",
   "metadata": {},
   "outputs": [],
   "source": [
    "#for statistical knockoffs\n",
    "XKnockoffData = pd.read_csv(knockoffFilePath,sep=\"\\t\");\n",
    "XKnockoffData"
   ]
  },
  {
   "cell_type": "code",
   "execution_count": null,
   "id": "45dfd89f",
   "metadata": {},
   "outputs": [],
   "source": [
    "#for PRS Knockoffs\n",
    "XKnockoffData = pd.read_csv(\"/Users/adsriram98/Documents/PARK_LAB/PRS_calc/data/02-22-24-PRSknockoffs-incidence.csv\", sep=\",\")\n",
    "XKnockoffData"
   ]
  },
  {
   "cell_type": "code",
   "execution_count": null,
   "id": "8f01f04f",
   "metadata": {},
   "outputs": [],
   "source": []
  },
  {
   "cell_type": "code",
   "execution_count": null,
   "id": "ad885f54",
   "metadata": {},
   "outputs": [],
   "source": [
    "''''''\n",
    "# After generating the knockoff data, run DNN\n",
    "\n",
    "#dataFolderPath = \"data\";\n",
    "dataFolderPath = \"/Users/adsriram98/Documents/PARK_LAB/PRS_calc/data\"\n",
    "\n",
    "\n",
    "YDataFileName = '42p_82894samples_02-23-24_incidence_Y.txt';\n",
    "Ydata = pd.read_csv(dataFolderPath+os.path.sep+YDataFileName,sep=\"\\t\");\n",
    "\n",
    "XKValues = XKnockoffData.values;\n",
    "YValues = Ydata.values;\n",
    "    \n",
    "pNum = int(XKValues.shape[1] / 2);\n",
    "n = XKValues.shape[0];\n",
    "print(XKValues.shape);\n",
    "print(YValues.shape);\n",
    "print(pNum);\n",
    "    \n",
    "XOrigin = XKValues[:, 0:pNum];\n",
    "knockoff = XKValues[:, pNum:];\n",
    "\n",
    "X3DTrain = np.zeros((n, pNum, 2));\n",
    "X3DTrain[:, :, 0] = XOrigin;\n",
    "X3DTrain[:, :, 1] = knockoff;\n",
    "labelTrain = YValues;\n",
    "    \n",
    "coeff = 0.05 * np.sqrt(2.0 * np.log(pNum) / n);\n",
    "\n",
    "nOutputs = Ydata.shape[1];\n",
    "\n",
    "#Save the DNN output to the following directory.\n",
    "resultDir = dataFolderPath+os.path.sep+'02_23_24_STATknockoffs_sepsis_incidence_UKB_DNN_result/'; #change this directory to the directory you are using\n",
    "if not os.path.exists(resultDir):\n",
    "    os.makedirs(resultDir);\n",
    "    \n",
    "from DL.DNN.DNN import DNN;\n",
    "dnn = DNN();\n",
    "model = dnn.build_DNN(pNum, nOutputs, coeff);\n",
    "callback = DNN.Job_finish_Callback(resultDir,pNum);\n",
    "dnn.train_DNN(model, X3DTrain, labelTrain,callback);"
   ]
  },
  {
   "cell_type": "code",
   "execution_count": null,
   "id": "2f9c464f",
   "metadata": {},
   "outputs": [],
   "source": [
    "# Apply FDR control to DNN result\n",
    "from DL.FDR.FDR_control import FDR_control\n",
    "control = FDR_control()\n",
    "\n",
    "XDataFileName = \"42p_82894samples_02-23-24_incidence_X.txt\"\n",
    "selected_features = control.controlFilter(dataFolderPath + os.path.sep + XDataFileName, resultDir, offset=1, q=0.00)\n",
    "\n",
    "# Save the selected associations with statistic and threshold\n",
    "selected_associations = []\n",
    "for feature, statistic, threshold in selected_features:\n",
    "    selected_associations.append({\n",
    "        \"Feature1\": feature,\n",
    "        \"Feature2\": \"Y\",\n",
    "        \"Statistic\": statistic,\n",
    "        \"Threshold\": threshold\n",
    "    })\n",
    "\n",
    "pd.DataFrame(selected_associations).to_csv(dataFolderPath + os.path.sep + \"02_23_24_STATknockoffs_SEPSISincidence_UKB_DNN_selected_associations.csv\"); #change this directory to the directory you are using\n",
    "\n"
   ]
  },
  {
   "cell_type": "code",
   "execution_count": null,
   "id": "9c64b940",
   "metadata": {},
   "outputs": [],
   "source": []
  }
 ],
 "metadata": {
  "kernelspec": {
   "display_name": "Python 3",
   "language": "python",
   "name": "python3"
  },
  "language_info": {
   "codemirror_mode": {
    "name": "ipython",
    "version": 3
   },
   "file_extension": ".py",
   "mimetype": "text/x-python",
   "name": "python",
   "nbconvert_exporter": "python",
   "pygments_lexer": "ipython3",
   "version": "3.8.5"
  }
 },
 "nbformat": 4,
 "nbformat_minor": 5
}
